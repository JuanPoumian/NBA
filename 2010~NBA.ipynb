{
 "cells": [
  {
   "cell_type": "markdown",
   "id": "6aee9abd",
   "metadata": {},
   "source": [
    "# 2010"
   ]
  },
  {
   "cell_type": "code",
   "execution_count": 17,
   "id": "d439e973",
   "metadata": {},
   "outputs": [],
   "source": [
    "# Import libraries\n",
    "import numpy as np\n",
    "import pandas as pd\n",
    "from scipy.stats import pearsonr, chi2_contingency\n",
    "import matplotlib.pyplot as plt\n",
    "import seaborn as sns"
   ]
  },
  {
   "cell_type": "code",
   "execution_count": 2,
   "id": "4a29dbea",
   "metadata": {},
   "outputs": [],
   "source": [
    "# Load the data into a dataframe\n",
    "nba = pd.read_csv('nba_games.csv')"
   ]
  },
  {
   "cell_type": "code",
   "execution_count": 5,
   "id": "a5adbe6c",
   "metadata": {},
   "outputs": [],
   "source": [
    "# Subset Data from 2010 Season\n",
    "nba_2010 = nba[nba.year_id == 2010]"
   ]
  },
  {
   "cell_type": "code",
   "execution_count": 6,
   "id": "bce8f67c",
   "metadata": {},
   "outputs": [
    {
     "data": {
      "image/png": "[encoded data removed]",
      "text/plain": [
       "<Figure size 640x480 with 1 Axes>"
      ]
     },
     "metadata": {},
     "output_type": "display_data"
    },
    {
     "data": {
      "text/plain": [
       "<Figure size 640x480 with 0 Axes>"
      ]
     },
     "metadata": {},
     "output_type": "display_data"
    }
   ],
   "source": [
    "# Create a side-by-side boxplots from frand_id and pts\n",
    "sns.boxplot(data = nba_2010, x = 'fran_id', y = 'pts')\n",
    "plt.savefig('2010boxplot.png')\n",
    "plt.show()\n",
    "plt.clf()"
   ]
  },
  {
   "cell_type": "markdown",
   "id": "8de219fc",
   "metadata": {},
   "source": [
    "`Relationship between Categorical variables\n",
    " There's a relationship between the game result and the game location?`"
   ]
  },
  {
   "cell_type": "code",
   "execution_count": 18,
   "id": "21f31903",
   "metadata": {},
   "outputs": [
    {
     "data": {
      "text/html": [
       "<div>\n",
       "<style scoped>\n",
       "    .dataframe tbody tr th:only-of-type {\n",
       "        vertical-align: middle;\n",
       "    }\n",
       "\n",
       "    .dataframe tbody tr th {\n",
       "        vertical-align: top;\n",
       "    }\n",
       "\n",
       "    .dataframe thead th {\n",
       "        text-align: right;\n",
       "    }\n",
       "</style>\n",
       "<table border=\"1\" class=\"dataframe\">\n",
       "  <thead>\n",
       "    <tr style=\"text-align: right;\">\n",
       "      <th>game_location</th>\n",
       "      <th>A</th>\n",
       "      <th>H</th>\n",
       "    </tr>\n",
       "    <tr>\n",
       "      <th>game_result</th>\n",
       "      <th></th>\n",
       "      <th></th>\n",
       "    </tr>\n",
       "  </thead>\n",
       "  <tbody>\n",
       "    <tr>\n",
       "      <th>L</th>\n",
       "      <td>133</td>\n",
       "      <td>105</td>\n",
       "    </tr>\n",
       "    <tr>\n",
       "      <th>W</th>\n",
       "      <td>92</td>\n",
       "      <td>120</td>\n",
       "    </tr>\n",
       "  </tbody>\n",
       "</table>\n",
       "</div>"
      ],
      "text/plain": [
       "game_location    A    H\n",
       "game_result            \n",
       "L              133  105\n",
       "W               92  120"
      ]
     },
     "execution_count": 18,
     "metadata": {},
     "output_type": "execute_result"
    }
   ],
   "source": [
    "# Create a contingency table of frequencies\n",
    "location_result_freq = pd.crosstab(nba_2010.game_result, nba_2010.game_location)\n",
    "location_result_freq"
   ]
  },
  {
   "cell_type": "code",
   "execution_count": 8,
   "id": "512a6786",
   "metadata": {},
   "outputs": [
    {
     "data": {
      "text/html": [
       "<div>\n",
       "<style scoped>\n",
       "    .dataframe tbody tr th:only-of-type {\n",
       "        vertical-align: middle;\n",
       "    }\n",
       "\n",
       "    .dataframe tbody tr th {\n",
       "        vertical-align: top;\n",
       "    }\n",
       "\n",
       "    .dataframe thead th {\n",
       "        text-align: right;\n",
       "    }\n",
       "</style>\n",
       "<table border=\"1\" class=\"dataframe\">\n",
       "  <thead>\n",
       "    <tr style=\"text-align: right;\">\n",
       "      <th>game_location</th>\n",
       "      <th>A</th>\n",
       "      <th>H</th>\n",
       "    </tr>\n",
       "    <tr>\n",
       "      <th>game_result</th>\n",
       "      <th></th>\n",
       "      <th></th>\n",
       "    </tr>\n",
       "  </thead>\n",
       "  <tbody>\n",
       "    <tr>\n",
       "      <th>L</th>\n",
       "      <td>0.295556</td>\n",
       "      <td>0.233333</td>\n",
       "    </tr>\n",
       "    <tr>\n",
       "      <th>W</th>\n",
       "      <td>0.204444</td>\n",
       "      <td>0.266667</td>\n",
       "    </tr>\n",
       "  </tbody>\n",
       "</table>\n",
       "</div>"
      ],
      "text/plain": [
       "game_location         A         H\n",
       "game_result                      \n",
       "L              0.295556  0.233333\n",
       "W              0.204444  0.266667"
      ]
     },
     "execution_count": 8,
     "metadata": {},
     "output_type": "execute_result"
    }
   ],
   "source": [
    "# Convert location_result_freq to proportions \n",
    "location_result_proportion = location_result_freq/len(nba_2010)\n",
    "location_result_proportion"
   ]
  },
  {
   "cell_type": "code",
   "execution_count": 9,
   "id": "59c89498",
   "metadata": {},
   "outputs": [
    {
     "name": "stdout",
     "output_type": "stream",
     "text": [
      "[[119. 119.]\n",
      " [106. 106.]]\n"
     ]
    }
   ],
   "source": [
    "# calculating the expected contingency table\n",
    "chi2, pval, dof, expected = chi2_contingency(location_result_freq)\n",
    "print(expected)"
   ]
  },
  {
   "cell_type": "code",
   "execution_count": 10,
   "id": "52e2f18d",
   "metadata": {},
   "outputs": [
    {
     "name": "stdout",
     "output_type": "stream",
     "text": [
      "6.501704455367053\n"
     ]
    }
   ],
   "source": [
    "# calculating the Chi-Square statistic\n",
    "print(chi2)"
   ]
  },
  {
   "cell_type": "markdown",
   "id": "fa55ba3b",
   "metadata": {},
   "source": [
    "`The expected contingency table shows differences in contrast to the one above and we can see that the chi2 is more than 4 which represents a possible association.`"
   ]
  },
  {
   "cell_type": "markdown",
   "id": "e2e6f989",
   "metadata": {},
   "source": [
    "`Relationship Between Quantitative Variables\n",
    " There's a relationship between point_diff and forecast?`"
   ]
  },
  {
   "cell_type": "code",
   "execution_count": 19,
   "id": "6249de38",
   "metadata": {},
   "outputs": [
    {
     "name": "stdout",
     "output_type": "stream",
     "text": [
      "[[1.86559287e+02 1.37461257e+00]\n",
      " [1.37461257e+00 5.22668307e-02]]\n"
     ]
    }
   ],
   "source": [
    "# calculate the covariance between point_diff and forecast\n",
    "point_diff_forecast_cov = np.cov(nba_2010.point_diff, nba_2010.forecast)\n",
    "print(point_diff_forecast_cov)"
   ]
  },
  {
   "cell_type": "code",
   "execution_count": 14,
   "id": "2866909d",
   "metadata": {},
   "outputs": [
    {
     "name": "stdout",
     "output_type": "stream",
     "text": [
      "(0.4402088708468082, 9.410391573138826e-23)\n"
     ]
    }
   ],
   "source": [
    "# I am calculating the strength of the correlation\n",
    "point_diff_forecast_corr = pearsonr(nba_2010.point_diff, nba_2010.forecast)\n",
    "print(point_diff_forecast_corr)\n",
    "# The printed result is a tuple with two values: the Pearson correlation coefficient and the p-value\n",
    "# In this case, the correlation coefficient is 0.44 and the p-value is 9.41\n",
    "# The correlation coefficient indicates a moderate positive correlation between the two variables\n",
    "# while the p-value indicates that the probability of this correlation being chance is extremely low"
   ]
  },
  {
   "cell_type": "code",
   "execution_count": 16,
   "id": "989062cb",
   "metadata": {},
   "outputs": [
    {
     "data": {
      "image/png": "[encoded data removed]",
      "text/plain": [
       "<Figure size 640x480 with 1 Axes>"
      ]
     },
     "metadata": {},
     "output_type": "display_data"
    }
   ],
   "source": [
    "# Create a scatter plot of point_diff and forecast\n",
    "plt.scatter('point_diff', 'forecast', data = nba_2010,)\n",
    "plt.xlabel('Point Differential')\n",
    "plt.ylabel('Forecasted Win Prob')\n",
    "plt.show()"
   ]
  },
  {
   "cell_type": "markdown",
   "id": "f6cf8614",
   "metadata": {},
   "source": [
    "`We can conclude that there is a moderate relationship between the difference in points and the predicted probability of victory in the basketball games of the 2010 NBA season. However, we must take into account that the correlation does not imply causation, so we cannot affirm that the difference in points is the only cause of the predicted probability of victory`"
   ]
  }
 ],
 "metadata": {
  "kernelspec": {
   "display_name": "Python 3 (ipykernel)",
   "language": "python",
   "name": "python3"
  },
  "language_info": {
   "codemirror_mode": {
    "name": "ipython",
    "version": 3
   },
   "file_extension": ".py",
   "mimetype": "text/x-python",
   "name": "python",
   "nbconvert_exporter": "python",
   "pygments_lexer": "ipython3",
   "version": "3.9.12"
  }
 },
 "nbformat": 4,
 "nbformat_minor": 5
}
